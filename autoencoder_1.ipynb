{
  "nbformat": 4,
  "nbformat_minor": 0,
  "metadata": {
    "colab": {
      "provenance": [],
      "authorship_tag": "ABX9TyMswOlqfjaTH8ffKaaG1s4Q",
      "include_colab_link": true
    },
    "kernelspec": {
      "name": "python3",
      "display_name": "Python 3"
    },
    "language_info": {
      "name": "python"
    }
  },
  "cells": [
    {
      "cell_type": "markdown",
      "metadata": {
        "id": "view-in-github",
        "colab_type": "text"
      },
      "source": [
        "<a href=\"https://colab.research.google.com/github/Joezy123456/web/blob/main/autoencoder_1.ipynb\" target=\"_parent\"><img src=\"https://colab.research.google.com/assets/colab-badge.svg\" alt=\"Open In Colab\"/></a>"
      ]
    },
    {
      "cell_type": "code",
      "execution_count": 52,
      "metadata": {
        "id": "m6Fc_zjm_qoN"
      },
      "outputs": [],
      "source": [
        "# Import necessary libraries\n",
        "import numpy as np\n",
        "import pandas as pd\n",
        "import matplotlib.pyplot as plt\n",
        "from sklearn.preprocessing import StandardScaler\n",
        "from sklearn.cluster import KMeans\n",
        "from sklearn.metrics import silhouette_score\n",
        "from sklearn.model_selection import train_test_split\n",
        "import tensorflow as tf\n",
        "from tensorflow.keras.models import Model\n",
        "from tensorflow.keras.layers import Input, Dense\n",
        "from google.colab import files"
      ]
    },
    {
      "cell_type": "code",
      "source": [
        "# Upload file\n",
        "uploaded = files.upload()"
      ],
      "metadata": {
        "colab": {
          "base_uri": "https://localhost:8080/",
          "height": 73
        },
        "id": "ZzTaybNoACyL",
        "outputId": "a5e23940-e4b6-4a8f-db1b-21b1861b7bc9"
      },
      "execution_count": 53,
      "outputs": [
        {
          "output_type": "display_data",
          "data": {
            "text/plain": [
              "<IPython.core.display.HTML object>"
            ],
            "text/html": [
              "\n",
              "     <input type=\"file\" id=\"files-fefebc0e-37c0-4cca-938c-426c334742cb\" name=\"files[]\" multiple disabled\n",
              "        style=\"border:none\" />\n",
              "     <output id=\"result-fefebc0e-37c0-4cca-938c-426c334742cb\">\n",
              "      Upload widget is only available when the cell has been executed in the\n",
              "      current browser session. Please rerun this cell to enable.\n",
              "      </output>\n",
              "      <script>// Copyright 2017 Google LLC\n",
              "//\n",
              "// Licensed under the Apache License, Version 2.0 (the \"License\");\n",
              "// you may not use this file except in compliance with the License.\n",
              "// You may obtain a copy of the License at\n",
              "//\n",
              "//      http://www.apache.org/licenses/LICENSE-2.0\n",
              "//\n",
              "// Unless required by applicable law or agreed to in writing, software\n",
              "// distributed under the License is distributed on an \"AS IS\" BASIS,\n",
              "// WITHOUT WARRANTIES OR CONDITIONS OF ANY KIND, either express or implied.\n",
              "// See the License for the specific language governing permissions and\n",
              "// limitations under the License.\n",
              "\n",
              "/**\n",
              " * @fileoverview Helpers for google.colab Python module.\n",
              " */\n",
              "(function(scope) {\n",
              "function span(text, styleAttributes = {}) {\n",
              "  const element = document.createElement('span');\n",
              "  element.textContent = text;\n",
              "  for (const key of Object.keys(styleAttributes)) {\n",
              "    element.style[key] = styleAttributes[key];\n",
              "  }\n",
              "  return element;\n",
              "}\n",
              "\n",
              "// Max number of bytes which will be uploaded at a time.\n",
              "const MAX_PAYLOAD_SIZE = 100 * 1024;\n",
              "\n",
              "function _uploadFiles(inputId, outputId) {\n",
              "  const steps = uploadFilesStep(inputId, outputId);\n",
              "  const outputElement = document.getElementById(outputId);\n",
              "  // Cache steps on the outputElement to make it available for the next call\n",
              "  // to uploadFilesContinue from Python.\n",
              "  outputElement.steps = steps;\n",
              "\n",
              "  return _uploadFilesContinue(outputId);\n",
              "}\n",
              "\n",
              "// This is roughly an async generator (not supported in the browser yet),\n",
              "// where there are multiple asynchronous steps and the Python side is going\n",
              "// to poll for completion of each step.\n",
              "// This uses a Promise to block the python side on completion of each step,\n",
              "// then passes the result of the previous step as the input to the next step.\n",
              "function _uploadFilesContinue(outputId) {\n",
              "  const outputElement = document.getElementById(outputId);\n",
              "  const steps = outputElement.steps;\n",
              "\n",
              "  const next = steps.next(outputElement.lastPromiseValue);\n",
              "  return Promise.resolve(next.value.promise).then((value) => {\n",
              "    // Cache the last promise value to make it available to the next\n",
              "    // step of the generator.\n",
              "    outputElement.lastPromiseValue = value;\n",
              "    return next.value.response;\n",
              "  });\n",
              "}\n",
              "\n",
              "/**\n",
              " * Generator function which is called between each async step of the upload\n",
              " * process.\n",
              " * @param {string} inputId Element ID of the input file picker element.\n",
              " * @param {string} outputId Element ID of the output display.\n",
              " * @return {!Iterable<!Object>} Iterable of next steps.\n",
              " */\n",
              "function* uploadFilesStep(inputId, outputId) {\n",
              "  const inputElement = document.getElementById(inputId);\n",
              "  inputElement.disabled = false;\n",
              "\n",
              "  const outputElement = document.getElementById(outputId);\n",
              "  outputElement.innerHTML = '';\n",
              "\n",
              "  const pickedPromise = new Promise((resolve) => {\n",
              "    inputElement.addEventListener('change', (e) => {\n",
              "      resolve(e.target.files);\n",
              "    });\n",
              "  });\n",
              "\n",
              "  const cancel = document.createElement('button');\n",
              "  inputElement.parentElement.appendChild(cancel);\n",
              "  cancel.textContent = 'Cancel upload';\n",
              "  const cancelPromise = new Promise((resolve) => {\n",
              "    cancel.onclick = () => {\n",
              "      resolve(null);\n",
              "    };\n",
              "  });\n",
              "\n",
              "  // Wait for the user to pick the files.\n",
              "  const files = yield {\n",
              "    promise: Promise.race([pickedPromise, cancelPromise]),\n",
              "    response: {\n",
              "      action: 'starting',\n",
              "    }\n",
              "  };\n",
              "\n",
              "  cancel.remove();\n",
              "\n",
              "  // Disable the input element since further picks are not allowed.\n",
              "  inputElement.disabled = true;\n",
              "\n",
              "  if (!files) {\n",
              "    return {\n",
              "      response: {\n",
              "        action: 'complete',\n",
              "      }\n",
              "    };\n",
              "  }\n",
              "\n",
              "  for (const file of files) {\n",
              "    const li = document.createElement('li');\n",
              "    li.append(span(file.name, {fontWeight: 'bold'}));\n",
              "    li.append(span(\n",
              "        `(${file.type || 'n/a'}) - ${file.size} bytes, ` +\n",
              "        `last modified: ${\n",
              "            file.lastModifiedDate ? file.lastModifiedDate.toLocaleDateString() :\n",
              "                                    'n/a'} - `));\n",
              "    const percent = span('0% done');\n",
              "    li.appendChild(percent);\n",
              "\n",
              "    outputElement.appendChild(li);\n",
              "\n",
              "    const fileDataPromise = new Promise((resolve) => {\n",
              "      const reader = new FileReader();\n",
              "      reader.onload = (e) => {\n",
              "        resolve(e.target.result);\n",
              "      };\n",
              "      reader.readAsArrayBuffer(file);\n",
              "    });\n",
              "    // Wait for the data to be ready.\n",
              "    let fileData = yield {\n",
              "      promise: fileDataPromise,\n",
              "      response: {\n",
              "        action: 'continue',\n",
              "      }\n",
              "    };\n",
              "\n",
              "    // Use a chunked sending to avoid message size limits. See b/62115660.\n",
              "    let position = 0;\n",
              "    do {\n",
              "      const length = Math.min(fileData.byteLength - position, MAX_PAYLOAD_SIZE);\n",
              "      const chunk = new Uint8Array(fileData, position, length);\n",
              "      position += length;\n",
              "\n",
              "      const base64 = btoa(String.fromCharCode.apply(null, chunk));\n",
              "      yield {\n",
              "        response: {\n",
              "          action: 'append',\n",
              "          file: file.name,\n",
              "          data: base64,\n",
              "        },\n",
              "      };\n",
              "\n",
              "      let percentDone = fileData.byteLength === 0 ?\n",
              "          100 :\n",
              "          Math.round((position / fileData.byteLength) * 100);\n",
              "      percent.textContent = `${percentDone}% done`;\n",
              "\n",
              "    } while (position < fileData.byteLength);\n",
              "  }\n",
              "\n",
              "  // All done.\n",
              "  yield {\n",
              "    response: {\n",
              "      action: 'complete',\n",
              "    }\n",
              "  };\n",
              "}\n",
              "\n",
              "scope.google = scope.google || {};\n",
              "scope.google.colab = scope.google.colab || {};\n",
              "scope.google.colab._files = {\n",
              "  _uploadFiles,\n",
              "  _uploadFilesContinue,\n",
              "};\n",
              "})(self);\n",
              "</script> "
            ]
          },
          "metadata": {}
        },
        {
          "output_type": "stream",
          "name": "stdout",
          "text": [
            "Saving Iris.csv to Iris (4).csv\n"
          ]
        }
      ]
    },
    {
      "cell_type": "code",
      "source": [
        "# Load the Iris dataset\n",
        "iris = pd.read_csv(next(iter(uploaded.keys())))"
      ],
      "metadata": {
        "id": "ssQasbVbALiM"
      },
      "execution_count": 54,
      "outputs": []
    },
    {
      "cell_type": "code",
      "source": [
        "# Separate features and target labels\n",
        "features = iris.drop(columns=['Species'])\n",
        "target = iris['Species']"
      ],
      "metadata": {
        "id": "HEvhFSuzAVGz"
      },
      "execution_count": 55,
      "outputs": []
    },
    {
      "cell_type": "code",
      "source": [
        "# Standardize the features\n",
        "scaler = StandardScaler()\n",
        "features_scaled = scaler.fit_transform(features)"
      ],
      "metadata": {
        "id": "cTyiqBbeAepZ"
      },
      "execution_count": 57,
      "outputs": []
    },
    {
      "cell_type": "code",
      "source": [
        "# Define the autoencoder model\n",
        "input_dim = features_scaled.shape[1]\n",
        "encoding_dim = 2\n",
        "\n",
        "input_layer = Input(shape=(input_dim,))\n",
        "encoder = Dense(encoding_dim, activation='relu')(input_layer)\n",
        "decoder = Dense(input_dim, activation='sigmoid')(encoder)\n",
        "\n",
        "autoencoder = Model(inputs=input_layer, outputs=decoder)\n",
        "encoder_model = Model(inputs=input_layer, outputs=encoder)\n",
        "\n",
        "autoencoder.compile(optimizer='sgd', loss='bce')"
      ],
      "metadata": {
        "id": "8i7LGANlAtK5"
      },
      "execution_count": 58,
      "outputs": []
    },
    {
      "cell_type": "code",
      "source": [
        "# Train the autoencoder\n",
        "X_train, X_test = train_test_split(features_scaled, test_size=0.2, random_state=42)\n",
        "autoencoder.fit(X_train, X_train, epochs=40, batch_size=14, validation_data=(X_test, X_test), verbose=1)"
      ],
      "metadata": {
        "colab": {
          "base_uri": "https://localhost:8080/"
        },
        "id": "rWVwxFFdBE7x",
        "outputId": "48f6c589-b97c-429e-cb9c-8a740a3d6285"
      },
      "execution_count": 59,
      "outputs": [
        {
          "output_type": "stream",
          "name": "stdout",
          "text": [
            "Epoch 1/40\n",
            "9/9 [==============================] - 1s 38ms/step - loss: 0.6375 - val_loss: 0.6989\n",
            "Epoch 2/40\n",
            "9/9 [==============================] - 0s 9ms/step - loss: 0.6242 - val_loss: 0.6850\n",
            "Epoch 3/40\n",
            "9/9 [==============================] - 0s 8ms/step - loss: 0.6099 - val_loss: 0.6685\n",
            "Epoch 4/40\n",
            "9/9 [==============================] - 0s 10ms/step - loss: 0.5944 - val_loss: 0.6481\n",
            "Epoch 5/40\n",
            "9/9 [==============================] - 0s 9ms/step - loss: 0.5766 - val_loss: 0.6280\n",
            "Epoch 6/40\n",
            "9/9 [==============================] - 0s 11ms/step - loss: 0.5572 - val_loss: 0.6047\n",
            "Epoch 7/40\n",
            "9/9 [==============================] - 0s 12ms/step - loss: 0.5352 - val_loss: 0.5788\n",
            "Epoch 8/40\n",
            "9/9 [==============================] - 0s 9ms/step - loss: 0.5138 - val_loss: 0.5526\n",
            "Epoch 9/40\n",
            "9/9 [==============================] - 0s 7ms/step - loss: 0.4905 - val_loss: 0.5245\n",
            "Epoch 10/40\n",
            "9/9 [==============================] - 0s 6ms/step - loss: 0.4647 - val_loss: 0.4958\n",
            "Epoch 11/40\n",
            "9/9 [==============================] - 0s 7ms/step - loss: 0.4365 - val_loss: 0.4667\n",
            "Epoch 12/40\n",
            "9/9 [==============================] - 0s 5ms/step - loss: 0.4078 - val_loss: 0.4352\n",
            "Epoch 13/40\n",
            "9/9 [==============================] - 0s 6ms/step - loss: 0.3758 - val_loss: 0.4012\n",
            "Epoch 14/40\n",
            "9/9 [==============================] - 0s 7ms/step - loss: 0.3407 - val_loss: 0.3637\n",
            "Epoch 15/40\n",
            "9/9 [==============================] - 0s 7ms/step - loss: 0.3000 - val_loss: 0.3270\n",
            "Epoch 16/40\n",
            "9/9 [==============================] - 0s 7ms/step - loss: 0.2594 - val_loss: 0.2866\n",
            "Epoch 17/40\n",
            "9/9 [==============================] - 0s 6ms/step - loss: 0.2156 - val_loss: 0.2427\n",
            "Epoch 18/40\n",
            "9/9 [==============================] - 0s 7ms/step - loss: 0.1698 - val_loss: 0.1983\n",
            "Epoch 19/40\n",
            "9/9 [==============================] - 0s 8ms/step - loss: 0.1241 - val_loss: 0.1524\n",
            "Epoch 20/40\n",
            "9/9 [==============================] - 0s 7ms/step - loss: 0.0757 - val_loss: 0.1048\n",
            "Epoch 21/40\n",
            "9/9 [==============================] - 0s 6ms/step - loss: 0.0252 - val_loss: 0.0536\n",
            "Epoch 22/40\n",
            "9/9 [==============================] - 0s 7ms/step - loss: -0.0296 - val_loss: 0.0033\n",
            "Epoch 23/40\n",
            "9/9 [==============================] - 0s 9ms/step - loss: -0.0835 - val_loss: -0.0498\n",
            "Epoch 24/40\n",
            "9/9 [==============================] - 0s 6ms/step - loss: -0.1399 - val_loss: -0.1036\n",
            "Epoch 25/40\n",
            "9/9 [==============================] - 0s 5ms/step - loss: -0.1975 - val_loss: -0.1638\n",
            "Epoch 26/40\n",
            "9/9 [==============================] - 0s 7ms/step - loss: -0.2617 - val_loss: -0.2250\n",
            "Epoch 27/40\n",
            "9/9 [==============================] - 0s 8ms/step - loss: -0.3279 - val_loss: -0.2893\n",
            "Epoch 28/40\n",
            "9/9 [==============================] - 0s 8ms/step - loss: -0.3964 - val_loss: -0.3556\n",
            "Epoch 29/40\n",
            "9/9 [==============================] - 0s 7ms/step - loss: -0.4686 - val_loss: -0.4299\n",
            "Epoch 30/40\n",
            "9/9 [==============================] - 0s 9ms/step - loss: -0.5478 - val_loss: -0.5062\n",
            "Epoch 31/40\n",
            "9/9 [==============================] - 0s 8ms/step - loss: -0.6310 - val_loss: -0.5867\n",
            "Epoch 32/40\n",
            "9/9 [==============================] - 0s 8ms/step - loss: -0.7174 - val_loss: -0.6701\n",
            "Epoch 33/40\n",
            "9/9 [==============================] - 0s 8ms/step - loss: -0.8083 - val_loss: -0.7638\n",
            "Epoch 34/40\n",
            "9/9 [==============================] - 0s 8ms/step - loss: -0.9098 - val_loss: -0.8588\n",
            "Epoch 35/40\n",
            "9/9 [==============================] - 0s 7ms/step - loss: -1.0130 - val_loss: -0.9594\n",
            "Epoch 36/40\n",
            "9/9 [==============================] - 0s 9ms/step - loss: -1.1227 - val_loss: -1.0728\n",
            "Epoch 37/40\n",
            "9/9 [==============================] - 0s 8ms/step - loss: -1.2481 - val_loss: -1.1904\n",
            "Epoch 38/40\n",
            "9/9 [==============================] - 0s 7ms/step - loss: -1.3771 - val_loss: -1.3131\n",
            "Epoch 39/40\n",
            "9/9 [==============================] - 0s 8ms/step - loss: -1.5125 - val_loss: -1.4457\n",
            "Epoch 40/40\n",
            "9/9 [==============================] - 0s 5ms/step - loss: -1.6584 - val_loss: -1.5924\n"
          ]
        },
        {
          "output_type": "execute_result",
          "data": {
            "text/plain": [
              "<keras.src.callbacks.History at 0x7bbec8503430>"
            ]
          },
          "metadata": {},
          "execution_count": 59
        }
      ]
    },
    {
      "cell_type": "code",
      "source": [
        "# Encode the scaled features\n",
        "X_encoded = encoder_model.predict(features_scaled)"
      ],
      "metadata": {
        "colab": {
          "base_uri": "https://localhost:8080/"
        },
        "id": "N1xUFXD8B00C",
        "outputId": "9765526d-d31e-4f3e-e4b1-5cba2c0d8f36"
      },
      "execution_count": 60,
      "outputs": [
        {
          "output_type": "stream",
          "name": "stdout",
          "text": [
            "5/5 [==============================] - 0s 3ms/step\n"
          ]
        }
      ]
    },
    {
      "cell_type": "code",
      "source": [
        "# Perform K-Means clustering on the encoded data\n",
        "kmeans = KMeans(n_clusters=3, random_state=42)\n",
        "clusters = kmeans.fit_predict(X_encoded)"
      ],
      "metadata": {
        "colab": {
          "base_uri": "https://localhost:8080/"
        },
        "id": "jAkWdsDaBKK0",
        "outputId": "bb949f5a-9a33-4211-912c-e427b144c20c"
      },
      "execution_count": 61,
      "outputs": [
        {
          "output_type": "stream",
          "name": "stderr",
          "text": [
            "/usr/local/lib/python3.10/dist-packages/sklearn/cluster/_kmeans.py:870: FutureWarning: The default value of `n_init` will change from 10 to 'auto' in 1.4. Set the value of `n_init` explicitly to suppress the warning\n",
            "  warnings.warn(\n"
          ]
        }
      ]
    },
    {
      "cell_type": "code",
      "source": [
        "# Visualize the clusters\n",
        "plt.scatter(X_encoded[:, 0], X_encoded[:, 1], c=clusters, cmap='viridis')\n",
        "plt.xlabel('Encoded Dimension 1')\n",
        "plt.ylabel('Encoded Dimension 2')\n",
        "plt.title('Clusters in Encoded Space')\n",
        "plt.colorbar()\n",
        "plt.show()"
      ],
      "metadata": {
        "colab": {
          "base_uri": "https://localhost:8080/",
          "height": 472
        },
        "id": "l2iOUlKACCyN",
        "outputId": "e0b362fe-3633-41c7-cc1a-636fdd58e150"
      },
      "execution_count": 62,
      "outputs": [
        {
          "output_type": "display_data",
          "data": {
            "text/plain": [
              "<Figure size 640x480 with 2 Axes>"
            ],
            "image/png": "[encoded data removed]"
          },
          "metadata": {}
        }
      ]
    },
    {
      "cell_type": "code",
      "source": [
        "# Calculate silhouette score\n",
        "silhouette_avg = silhouette_score(X_encoded, clusters)\n",
        "print(f'Silhouette Score: {silhouette_avg}')"
      ],
      "metadata": {
        "colab": {
          "base_uri": "https://localhost:8080/"
        },
        "id": "XZl77JvTCMGg",
        "outputId": "7d46c63f-68c3-4814-a3bd-39cff5a9187a"
      },
      "execution_count": 63,
      "outputs": [
        {
          "output_type": "stream",
          "name": "stdout",
          "text": [
            "Silhouette Score: 0.7552318572998047\n"
          ]
        }
      ]
    }
  ]
}